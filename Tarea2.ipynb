{
 "cells": [
  {
   "cell_type": "code",
   "execution_count": 1,
   "id": "cce31c22",
   "metadata": {},
   "outputs": [],
   "source": [
    "# Importar las bibliotecas \n",
    "import pandas as pd\n",
    "import numpy as np"
   ]
  },
  {
   "cell_type": "code",
   "execution_count": 2,
   "id": "3530c3f7",
   "metadata": {},
   "outputs": [],
   "source": [
    "# Cargar los datos de felicidad desde GitHub\n",
    "url = \"https://raw.githubusercontent.com/cienciadedatos/datos-de-miercoles/master/datos/2019/2019-08-07/felicidad.csv\"\n",
    "data = pd.read_csv(url)"
   ]
  },
  {
   "cell_type": "code",
   "execution_count": 3,
   "id": "860bce09",
   "metadata": {},
   "outputs": [
    {
     "name": "stdout",
     "output_type": "stream",
     "text": [
      "          pais  anio  escalera_vida   log_pib  soporte_social  \\\n",
      "0  Afghanistán  2008       3.723590  7.168690        0.450662   \n",
      "1  Afghanistán  2009       4.401778  7.333790        0.552308   \n",
      "2  Afghanistán  2010       4.758381  7.386629        0.539075   \n",
      "3  Afghanistán  2011       3.831719  7.415019        0.521104   \n",
      "4  Afghanistán  2012       3.782938  7.517126        0.520637   \n",
      "\n",
      "   expectativa_vida  libertad  generosidad  percepcion_corrupcion  \\\n",
      "0         50.799999  0.718114     0.177889               0.881686   \n",
      "1         51.200001  0.678896     0.200178               0.850035   \n",
      "2         51.599998  0.600127     0.134353               0.706766   \n",
      "3         51.919998  0.495901     0.172137               0.731109   \n",
      "4         52.240002  0.530935     0.244273               0.775620   \n",
      "\n",
      "   afecto_positivo  afecto_negativo  confianza  calidad_democracia  \\\n",
      "0         0.517637         0.258195   0.612072           -1.929690   \n",
      "1         0.583926         0.237092   0.611545           -2.044093   \n",
      "2         0.618265         0.275324   0.299357           -1.991810   \n",
      "3         0.611387         0.267175   0.307386           -1.919018   \n",
      "4         0.710385         0.267919   0.435440           -1.842996   \n",
      "\n",
      "   calidad_entrega  de_escalera_pais_anio  gini_banco_mundial  \\\n",
      "0        -1.655084               1.774662                 NaN   \n",
      "1        -1.635025               1.722688                 NaN   \n",
      "2        -1.617176               1.878622                 NaN   \n",
      "3        -1.616221               1.785360                 NaN   \n",
      "4        -1.404078               1.798283                 NaN   \n",
      "\n",
      "   gini_banco_mundial_promedio  \n",
      "0                          NaN  \n",
      "1                          NaN  \n",
      "2                          NaN  \n",
      "3                          NaN  \n",
      "4                          NaN  \n"
     ]
    }
   ],
   "source": [
    "# Mostrar cómo se acceden a los datos de felicidad\n",
    "print(data.head())"
   ]
  },
  {
   "cell_type": "code",
   "execution_count": 5,
   "id": "00762708",
   "metadata": {},
   "outputs": [
    {
     "name": "stdout",
     "output_type": "stream",
     "text": [
      "Index(['pais', 'anio', 'escalera_vida', 'log_pib', 'soporte_social',\n",
      "       'expectativa_vida', 'libertad', 'generosidad', 'percepcion_corrupcion',\n",
      "       'afecto_positivo', 'afecto_negativo', 'confianza', 'calidad_democracia',\n",
      "       'calidad_entrega', 'de_escalera_pais_anio', 'gini_banco_mundial',\n",
      "       'gini_banco_mundial_promedio'],\n",
      "      dtype='object')\n"
     ]
    }
   ],
   "source": [
    "# mostrar nombres de columnas\n",
    "column_names = data.columns\n",
    "print(column_names)"
   ]
  },
  {
   "cell_type": "code",
   "execution_count": 9,
   "id": "6fb7ba34",
   "metadata": {},
   "outputs": [],
   "source": [
    "primer_anio = data[data['anio'] == 2005]"
   ]
  },
  {
   "cell_type": "code",
   "execution_count": 10,
   "id": "57d6a18a",
   "metadata": {},
   "outputs": [],
   "source": [
    "promedio_primer_anio = primer_anio['escalera_vida'].mean()\n",
    "desviacion_primer_anio = primer_anio['escalera_vida'].std()"
   ]
  },
  {
   "cell_type": "code",
   "execution_count": 11,
   "id": "0982475d",
   "metadata": {},
   "outputs": [],
   "source": [
    "ultimo_anio = data[data['anio'] == 2018]\n",
    "promedio_ultimo_anio = ultimo_anio['escalera_vida'].mean()\n",
    "desviacion_ultimo_anio = ultimo_anio['escalera_vida'].std()"
   ]
  },
  {
   "cell_type": "code",
   "execution_count": 12,
   "id": "1789c97a",
   "metadata": {},
   "outputs": [
    {
     "name": "stdout",
     "output_type": "stream",
     "text": [
      "Medidas de tendencia central y dispersión para el primer año (2005):\n",
      "Promedio: 6.446164272449635\n",
      "Desviación estándar: 0.9191426322726484\n"
     ]
    }
   ],
   "source": [
    "# Mostrar las medidas de tendencia central y dispersión primer año\n",
    "print(f\"Medidas de tendencia central y dispersión para el primer año (2005):\")\n",
    "print(f\"Promedio: {promedio_primer_anio}\")\n",
    "print(f\"Desviación estándar: {desviacion_primer_anio}\")"
   ]
  },
  {
   "cell_type": "code",
   "execution_count": 13,
   "id": "2d1cbb9f",
   "metadata": {},
   "outputs": [
    {
     "name": "stdout",
     "output_type": "stream",
     "text": [
      "Medidas de tendencia central y dispersión para el último año (2018):\n",
      "Promedio: 5.502134340650895\n",
      "Desviación estándar: 1.1034612436939357\n"
     ]
    }
   ],
   "source": [
    "# Mostrar las medidas de tendencia central y dispersión ultimo año\n",
    "print(f\"Medidas de tendencia central y dispersión para el último año (2018):\")\n",
    "print(f\"Promedio: {promedio_ultimo_anio}\")\n",
    "print(f\"Desviación estándar: {desviacion_ultimo_anio}\")"
   ]
  },
  {
   "cell_type": "code",
   "execution_count": 18,
   "id": "b0dd94d2",
   "metadata": {},
   "outputs": [],
   "source": [
    "# Seleccion de dos países \n",
    "pais1 = 'Australia'\n",
    "pais2 = 'Alemania'\n"
   ]
  },
  {
   "cell_type": "code",
   "execution_count": 19,
   "id": "f2fcd705",
   "metadata": {},
   "outputs": [],
   "source": [
    "# Filtrar datos para el primer año y los países seleccionados\n",
    "pais1_primer_anio = primer_anio[primer_anio['pais'] == pais1]['escalera_vida'].values[0]\n",
    "pais2_primer_anio = primer_anio[primer_anio['pais'] == pais2]['escalera_vida'].values[0]"
   ]
  },
  {
   "cell_type": "code",
   "execution_count": 20,
   "id": "0ff2aba1",
   "metadata": {},
   "outputs": [],
   "source": [
    "# Filtrar datos para el ultimo año y los países seleccionados\n",
    "pais1_ultimo_anio = ultimo_anio[ultimo_anio['pais'] == pais1]['escalera_vida'].values[0]\n",
    "pais2_ultimo_anio = ultimo_anio[ultimo_anio['pais'] == pais2]['escalera_vida'].values[0]\n"
   ]
  },
  {
   "cell_type": "code",
   "execution_count": 21,
   "id": "929a1687",
   "metadata": {},
   "outputs": [
    {
     "name": "stdout",
     "output_type": "stream",
     "text": [
      "Felicidad en Australia en el primer año (2005): 7.340688228607178\n",
      "Felicidad en Alemania en el primer año (2005): 6.619549751281738\n",
      "Felicidad en Australia en el último año (2018): 7.176993370056152\n",
      "Felicidad en Alemania en el último año (2018): 7.118364334106445\n"
     ]
    }
   ],
   "source": [
    "# Mostrar los niveles de felicidad de los países seleccionados\n",
    "print(f\"Felicidad en {pais1} en el primer año (2005): {pais1_primer_anio}\")\n",
    "print(f\"Felicidad en {pais2} en el primer año (2005): {pais2_primer_anio}\")\n",
    "print(f\"Felicidad en {pais1} en el último año (2018): {pais1_ultimo_anio}\")\n",
    "print(f\"Felicidad en {pais2} en el último año (2018): {pais2_ultimo_anio}\")"
   ]
  },
  {
   "cell_type": "code",
   "execution_count": 22,
   "id": "ad273456",
   "metadata": {},
   "outputs": [],
   "source": [
    "# Comparar los países elegidos con el promedio global\n",
    "if pais1_primer_anio > promedio_primer_anio:\n",
    "    comparacion_pais1_primer_anio = f\"{pais1} es más feliz que el promedio global en el primer año (2005).\"\n",
    "else:\n",
    "    comparacion_pais1_primer_anio = f\"{pais1} es menos feliz que el promedio global en el primer año (2005).\"\n",
    "\n",
    "if pais1_ultimo_anio > promedio_ultimo_anio:\n",
    "    comparacion_pais1_ultimo_anio = f\"{pais1} es más feliz que el promedio global en el último año (2018).\"\n",
    "else:\n",
    "    comparacion_pais1_ultimo_anio = f\"{pais1} es menos feliz que el promedio global en el último año (2018).\"\n",
    "\n",
    "if pais2_primer_anio > promedio_primer_anio:\n",
    "    comparacion_pais2_primer_anio = f\"{pais2} es más feliz que el promedio global en el primer año (2005).\"\n",
    "else:\n",
    "    comparacion_pais2_primer_anio = f\"{pais2} es menos feliz que el promedio global en el primer año (2005).\"\n",
    "\n",
    "if pais2_ultimo_anio > promedio_ultimo_anio:\n",
    "    comparacion_pais2_ultimo_anio = f\"{pais2} es más feliz que el promedio global en el último año (2018).\"\n",
    "else:\n",
    "    comparacion_pais2_ultimo_anio = f\"{pais2} es menos feliz que el promedio global en el último año (2018).\"\n"
   ]
  },
  {
   "cell_type": "code",
   "execution_count": 23,
   "id": "8b8041f4",
   "metadata": {},
   "outputs": [
    {
     "name": "stdout",
     "output_type": "stream",
     "text": [
      "Australia es más feliz que el promedio global en el primer año (2005).\n",
      "Australia es más feliz que el promedio global en el último año (2018).\n",
      "Alemania es más feliz que el promedio global en el primer año (2005).\n",
      "Alemania es más feliz que el promedio global en el último año (2018).\n"
     ]
    }
   ],
   "source": [
    "# Mostrar las comparaciones\n",
    "print(comparacion_pais1_primer_anio)\n",
    "print(comparacion_pais1_ultimo_anio)\n",
    "print(comparacion_pais2_primer_anio)\n",
    "print(comparacion_pais2_ultimo_anio)"
   ]
  },
  {
   "cell_type": "code",
   "execution_count": null,
   "id": "487b5929",
   "metadata": {},
   "outputs": [],
   "source": []
  }
 ],
 "metadata": {
  "kernelspec": {
   "display_name": "Python 3 (ipykernel)",
   "language": "python",
   "name": "python3"
  },
  "language_info": {
   "codemirror_mode": {
    "name": "ipython",
    "version": 3
   },
   "file_extension": ".py",
   "mimetype": "text/x-python",
   "name": "python",
   "nbconvert_exporter": "python",
   "pygments_lexer": "ipython3",
   "version": "3.11.4"
  }
 },
 "nbformat": 4,
 "nbformat_minor": 5
}
